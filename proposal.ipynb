{
 "cells": [
  {
   "cell_type": "markdown",
   "metadata": {},
   "source": [
    "***DSCI 100 Project proposal***\n",
    "\n",
    "Natsumi Tadakuma,Jackie Huang\n",
    "Cindy Chen\n",
    "Nikko Dumrique"
   ]
  },
  {
   "cell_type": "markdown",
   "metadata": {},
   "source": [
    "Importing the libraries:"
   ]
  },
  {
   "cell_type": "code",
   "execution_count": 12,
   "metadata": {},
   "outputs": [],
   "source": [
    "library(tidyverse)\n",
    "library(repr)"
   ]
  },
  {
   "cell_type": "code",
   "execution_count": 21,
   "metadata": {},
   "outputs": [],
   "source": [
    "options(repr.matrix.max.rows = 6, repr.matrix.max.cols = 12)"
   ]
  },
  {
   "cell_type": "markdown",
   "metadata": {},
   "source": [
    "Importing the dataset:"
   ]
  },
  {
   "cell_type": "code",
   "execution_count": 22,
   "metadata": {},
   "outputs": [
    {
     "name": "stderr",
     "output_type": "stream",
     "text": [
      "Parsed with column specification:\n",
      "cols(\n",
      "  .default = col_double(),\n",
      "  url = \u001b[31mcol_character()\u001b[39m\n",
      ")\n",
      "\n",
      "See spec(...) for full column specifications.\n",
      "\n"
     ]
    },
    {
     "data": {
      "text/html": [
       "<table>\n",
       "<caption>A spec_tbl_df: 39644 × 61</caption>\n",
       "<thead>\n",
       "\t<tr><th scope=col>url</th><th scope=col>timedelta</th><th scope=col>n_tokens_title</th><th scope=col>n_tokens_content</th><th scope=col>n_unique_tokens</th><th scope=col>n_non_stop_words</th><th scope=col>⋯</th><th scope=col>max_negative_polarity</th><th scope=col>title_subjectivity</th><th scope=col>title_sentiment_polarity</th><th scope=col>abs_title_subjectivity</th><th scope=col>abs_title_sentiment_polarity</th><th scope=col>shares</th></tr>\n",
       "\t<tr><th scope=col>&lt;chr&gt;</th><th scope=col>&lt;dbl&gt;</th><th scope=col>&lt;dbl&gt;</th><th scope=col>&lt;dbl&gt;</th><th scope=col>&lt;dbl&gt;</th><th scope=col>&lt;dbl&gt;</th><th scope=col>⋯</th><th scope=col>&lt;dbl&gt;</th><th scope=col>&lt;dbl&gt;</th><th scope=col>&lt;dbl&gt;</th><th scope=col>&lt;dbl&gt;</th><th scope=col>&lt;dbl&gt;</th><th scope=col>&lt;dbl&gt;</th></tr>\n",
       "</thead>\n",
       "<tbody>\n",
       "\t<tr><td>http://mashable.com/2013/01/07/amazon-instant-video-browser/  </td><td>731</td><td>12</td><td>219</td><td>0.6635945</td><td>1</td><td>⋯</td><td>-0.2000000</td><td>0.5</td><td>-0.1875</td><td>0.0</td><td>0.1875</td><td> 593</td></tr>\n",
       "\t<tr><td>http://mashable.com/2013/01/07/ap-samsung-sponsored-tweets/   </td><td>731</td><td> 9</td><td>255</td><td>0.6047431</td><td>1</td><td>⋯</td><td>-0.1000000</td><td>0.0</td><td> 0.0000</td><td>0.5</td><td>0.0000</td><td> 711</td></tr>\n",
       "\t<tr><td>http://mashable.com/2013/01/07/apple-40-billion-app-downloads/</td><td>731</td><td> 9</td><td>211</td><td>0.5751295</td><td>1</td><td>⋯</td><td>-0.1333333</td><td>0.0</td><td> 0.0000</td><td>0.5</td><td>0.0000</td><td>1500</td></tr>\n",
       "\t<tr><td>⋮</td><td>⋮</td><td>⋮</td><td>⋮</td><td>⋮</td><td>⋮</td><td>⋱</td><td>⋮</td><td>⋮</td><td>⋮</td><td>⋮</td><td>⋮</td><td>⋮</td></tr>\n",
       "\t<tr><td>http://mashable.com/2014/12/27/son-pays-off-mortgage/</td><td>8</td><td>10</td><td>442</td><td>0.5163551</td><td>1</td><td>⋯</td><td>-0.1666667</td><td>0.4545455</td><td>0.1363636</td><td>0.04545455</td><td>0.1363636</td><td>1900</td></tr>\n",
       "\t<tr><td>http://mashable.com/2014/12/27/ukraine-blasts/       </td><td>8</td><td> 6</td><td>682</td><td>0.5394933</td><td>1</td><td>⋯</td><td>-0.0125000</td><td>0.0000000</td><td>0.0000000</td><td>0.50000000</td><td>0.0000000</td><td>1100</td></tr>\n",
       "\t<tr><td>http://mashable.com/2014/12/27/youtube-channels-2015/</td><td>8</td><td>10</td><td>157</td><td>0.7019868</td><td>1</td><td>⋯</td><td>-0.2000000</td><td>0.3333333</td><td>0.2500000</td><td>0.16666667</td><td>0.2500000</td><td>1300</td></tr>\n",
       "</tbody>\n",
       "</table>\n"
      ],
      "text/latex": [
       "A spec\\_tbl\\_df: 39644 × 61\n",
       "\\begin{tabular}{lllllllllllll}\n",
       " url & timedelta & n\\_tokens\\_title & n\\_tokens\\_content & n\\_unique\\_tokens & n\\_non\\_stop\\_words & ⋯ & max\\_negative\\_polarity & title\\_subjectivity & title\\_sentiment\\_polarity & abs\\_title\\_subjectivity & abs\\_title\\_sentiment\\_polarity & shares\\\\\n",
       " <chr> & <dbl> & <dbl> & <dbl> & <dbl> & <dbl> & ⋯ & <dbl> & <dbl> & <dbl> & <dbl> & <dbl> & <dbl>\\\\\n",
       "\\hline\n",
       "\t http://mashable.com/2013/01/07/amazon-instant-video-browser/   & 731 & 12 & 219 & 0.6635945 & 1 & ⋯ & -0.2000000 & 0.5 & -0.1875 & 0.0 & 0.1875 &  593\\\\\n",
       "\t http://mashable.com/2013/01/07/ap-samsung-sponsored-tweets/    & 731 &  9 & 255 & 0.6047431 & 1 & ⋯ & -0.1000000 & 0.0 &  0.0000 & 0.5 & 0.0000 &  711\\\\\n",
       "\t http://mashable.com/2013/01/07/apple-40-billion-app-downloads/ & 731 &  9 & 211 & 0.5751295 & 1 & ⋯ & -0.1333333 & 0.0 &  0.0000 & 0.5 & 0.0000 & 1500\\\\\n",
       "\t ⋮ & ⋮ & ⋮ & ⋮ & ⋮ & ⋮ & ⋱ & ⋮ & ⋮ & ⋮ & ⋮ & ⋮ & ⋮\\\\\n",
       "\t http://mashable.com/2014/12/27/son-pays-off-mortgage/ & 8 & 10 & 442 & 0.5163551 & 1 & ⋯ & -0.1666667 & 0.4545455 & 0.1363636 & 0.04545455 & 0.1363636 & 1900\\\\\n",
       "\t http://mashable.com/2014/12/27/ukraine-blasts/        & 8 &  6 & 682 & 0.5394933 & 1 & ⋯ & -0.0125000 & 0.0000000 & 0.0000000 & 0.50000000 & 0.0000000 & 1100\\\\\n",
       "\t http://mashable.com/2014/12/27/youtube-channels-2015/ & 8 & 10 & 157 & 0.7019868 & 1 & ⋯ & -0.2000000 & 0.3333333 & 0.2500000 & 0.16666667 & 0.2500000 & 1300\\\\\n",
       "\\end{tabular}\n"
      ],
      "text/markdown": [
       "\n",
       "A spec_tbl_df: 39644 × 61\n",
       "\n",
       "| url &lt;chr&gt; | timedelta &lt;dbl&gt; | n_tokens_title &lt;dbl&gt; | n_tokens_content &lt;dbl&gt; | n_unique_tokens &lt;dbl&gt; | n_non_stop_words &lt;dbl&gt; | ⋯ ⋯ | max_negative_polarity &lt;dbl&gt; | title_subjectivity &lt;dbl&gt; | title_sentiment_polarity &lt;dbl&gt; | abs_title_subjectivity &lt;dbl&gt; | abs_title_sentiment_polarity &lt;dbl&gt; | shares &lt;dbl&gt; |\n",
       "|---|---|---|---|---|---|---|---|---|---|---|---|---|\n",
       "| http://mashable.com/2013/01/07/amazon-instant-video-browser/   | 731 | 12 | 219 | 0.6635945 | 1 | ⋯ | -0.2000000 | 0.5 | -0.1875 | 0.0 | 0.1875 |  593 |\n",
       "| http://mashable.com/2013/01/07/ap-samsung-sponsored-tweets/    | 731 |  9 | 255 | 0.6047431 | 1 | ⋯ | -0.1000000 | 0.0 |  0.0000 | 0.5 | 0.0000 |  711 |\n",
       "| http://mashable.com/2013/01/07/apple-40-billion-app-downloads/ | 731 |  9 | 211 | 0.5751295 | 1 | ⋯ | -0.1333333 | 0.0 |  0.0000 | 0.5 | 0.0000 | 1500 |\n",
       "| ⋮ | ⋮ | ⋮ | ⋮ | ⋮ | ⋮ | ⋱ | ⋮ | ⋮ | ⋮ | ⋮ | ⋮ | ⋮ |\n",
       "| http://mashable.com/2014/12/27/son-pays-off-mortgage/ | 8 | 10 | 442 | 0.5163551 | 1 | ⋯ | -0.1666667 | 0.4545455 | 0.1363636 | 0.04545455 | 0.1363636 | 1900 |\n",
       "| http://mashable.com/2014/12/27/ukraine-blasts/        | 8 |  6 | 682 | 0.5394933 | 1 | ⋯ | -0.0125000 | 0.0000000 | 0.0000000 | 0.50000000 | 0.0000000 | 1100 |\n",
       "| http://mashable.com/2014/12/27/youtube-channels-2015/ | 8 | 10 | 157 | 0.7019868 | 1 | ⋯ | -0.2000000 | 0.3333333 | 0.2500000 | 0.16666667 | 0.2500000 | 1300 |\n",
       "\n"
      ],
      "text/plain": [
       "      url                                                            timedelta\n",
       "1     http://mashable.com/2013/01/07/amazon-instant-video-browser/   731      \n",
       "2     http://mashable.com/2013/01/07/ap-samsung-sponsored-tweets/    731      \n",
       "3     http://mashable.com/2013/01/07/apple-40-billion-app-downloads/ 731      \n",
       "⋮     ⋮                                                              ⋮        \n",
       "39642 http://mashable.com/2014/12/27/son-pays-off-mortgage/          8        \n",
       "39643 http://mashable.com/2014/12/27/ukraine-blasts/                 8        \n",
       "39644 http://mashable.com/2014/12/27/youtube-channels-2015/          8        \n",
       "      n_tokens_title n_tokens_content n_unique_tokens n_non_stop_words ⋯\n",
       "1     12             219              0.6635945       1                ⋯\n",
       "2      9             255              0.6047431       1                ⋯\n",
       "3      9             211              0.5751295       1                ⋯\n",
       "⋮     ⋮              ⋮                ⋮               ⋮                ⋱\n",
       "39642 10             442              0.5163551       1                ⋯\n",
       "39643  6             682              0.5394933       1                ⋯\n",
       "39644 10             157              0.7019868       1                ⋯\n",
       "      max_negative_polarity title_subjectivity title_sentiment_polarity\n",
       "1     -0.2000000            0.5                -0.1875                 \n",
       "2     -0.1000000            0.0                 0.0000                 \n",
       "3     -0.1333333            0.0                 0.0000                 \n",
       "⋮     ⋮                     ⋮                  ⋮                       \n",
       "39642 -0.1666667            0.4545455          0.1363636               \n",
       "39643 -0.0125000            0.0000000          0.0000000               \n",
       "39644 -0.2000000            0.3333333          0.2500000               \n",
       "      abs_title_subjectivity abs_title_sentiment_polarity shares\n",
       "1     0.0                    0.1875                        593  \n",
       "2     0.5                    0.0000                        711  \n",
       "3     0.5                    0.0000                       1500  \n",
       "⋮     ⋮                      ⋮                            ⋮     \n",
       "39642 0.04545455             0.1363636                    1900  \n",
       "39643 0.50000000             0.0000000                    1100  \n",
       "39644 0.16666667             0.2500000                    1300  "
      ]
     },
     "metadata": {},
     "output_type": "display_data"
    }
   ],
   "source": [
    "#download the zip file into a temporary file\n",
    "temp <- tempfile()\n",
    "temp_dir <- tempfile()\n",
    "download.file(\"https://archive.ics.uci.edu/ml/machine-learning-databases/00332/OnlineNewsPopularity.zip\", temp, mode=\"wb\")\n",
    "OnlineNewsPopularity_unzipped <- unzip(temp, exdir = temp_dir)\n",
    "\n",
    "#read the csv within the unzipped_contents\n",
    "online_news_pop_csv <- OnlineNewsPopularity_unzipped[2] #may be unzipped_contents[1] if you get an error\n",
    "online_news_pop_data <- read_csv(online_news_pop_csv)\n",
    "online_news_pop_data\n",
    "unlink(c(temp, temp_dir))"
   ]
  },
  {
   "cell_type": "markdown",
   "metadata": {},
   "source": [
    "tidying the data:"
   ]
  },
  {
   "cell_type": "code",
   "execution_count": null,
   "metadata": {},
   "outputs": [],
   "source": []
  }
 ],
 "metadata": {
  "kernelspec": {
   "display_name": "R",
   "language": "R",
   "name": "ir"
  },
  "language_info": {
   "codemirror_mode": "r",
   "file_extension": ".r",
   "mimetype": "text/x-r-source",
   "name": "R",
   "pygments_lexer": "r",
   "version": "4.0.0"
  }
 },
 "nbformat": 4,
 "nbformat_minor": 4
}
